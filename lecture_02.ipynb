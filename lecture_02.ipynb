{
 "cells": [
  {
   "cell_type": "code",
   "execution_count": 72,
   "id": "8989ab4a-3d7c-473d-9102-27d34ab7d8e1",
   "metadata": {},
   "outputs": [],
   "source": [
    "import pandas as pd"
   ]
  },
  {
   "cell_type": "code",
   "execution_count": 73,
   "id": "e3c4d3b5-e9b4-47ab-afa0-bf5c53480e3c",
   "metadata": {},
   "outputs": [],
   "source": [
    "df=pd.read_csv(\"C:/Users/Maanz-AI/Desktop/pandas_tutorial/datas/B17.csv\")"
   ]
  },
  {
   "cell_type": "code",
   "execution_count": 60,
   "id": "abc7ce09-8594-40a3-9eea-4ff0c319931b",
   "metadata": {},
   "outputs": [
    {
     "data": {
      "text/plain": [
       "pandas.core.frame.DataFrame"
      ]
     },
     "execution_count": 60,
     "metadata": {},
     "output_type": "execute_result"
    }
   ],
   "source": [
    "# checking type\n",
    "type(df)"
   ]
  },
  {
   "cell_type": "code",
   "execution_count": 61,
   "id": "26075dae-0007-4a67-b82e-40b3303d354f",
   "metadata": {},
   "outputs": [
    {
     "data": {
      "text/plain": [
       "RangeIndex(start=0, stop=175, step=1)"
      ]
     },
     "execution_count": 61,
     "metadata": {},
     "output_type": "execute_result"
    }
   ],
   "source": [
    "# checking index\n",
    "df.index"
   ]
  },
  {
   "cell_type": "code",
   "execution_count": 62,
   "id": "be48be59-2b9e-4289-8d74-b2853f2163d4",
   "metadata": {},
   "outputs": [
    {
     "data": {
      "text/html": [
       "<div>\n",
       "<style scoped>\n",
       "    .dataframe tbody tr th:only-of-type {\n",
       "        vertical-align: middle;\n",
       "    }\n",
       "\n",
       "    .dataframe tbody tr th {\n",
       "        vertical-align: top;\n",
       "    }\n",
       "\n",
       "    .dataframe thead th {\n",
       "        text-align: right;\n",
       "    }\n",
       "</style>\n",
       "<table border=\"1\" class=\"dataframe\">\n",
       "  <thead>\n",
       "    <tr style=\"text-align: right;\">\n",
       "      <th></th>\n",
       "      <th>Location</th>\n",
       "      <th>Price</th>\n",
       "      <th>Area</th>\n",
       "      <th>Bedrooms</th>\n",
       "      <th>Baths</th>\n",
       "      <th>Link</th>\n",
       "    </tr>\n",
       "  </thead>\n",
       "  <tbody>\n",
       "    <tr>\n",
       "      <th>0</th>\n",
       "      <td>MPCHS - Block C1, MPCHS - Multi Gardens</td>\n",
       "      <td>2.5 Crore</td>\n",
       "      <td>7 Marla</td>\n",
       "      <td>4</td>\n",
       "      <td>6</td>\n",
       "      <td>https://www.zameen.com//Property/mpchs_multi_g...</td>\n",
       "    </tr>\n",
       "    <tr>\n",
       "      <th>1</th>\n",
       "      <td>MPCHS - Block B, MPCHS - Multi Gardens</td>\n",
       "      <td>3.8 Crore</td>\n",
       "      <td>12 Marla</td>\n",
       "      <td>4</td>\n",
       "      <td>4</td>\n",
       "      <td>https://www.zameen.com//Property/mpchs_multi_g...</td>\n",
       "    </tr>\n",
       "    <tr>\n",
       "      <th>2</th>\n",
       "      <td>MPCHS - Block F, MPCHS - Multi Gardens</td>\n",
       "      <td>1.95 Crore</td>\n",
       "      <td>7 Marla</td>\n",
       "      <td>4</td>\n",
       "      <td>6</td>\n",
       "      <td>https://www.zameen.com//Property/mpchs_multi_g...</td>\n",
       "    </tr>\n",
       "    <tr>\n",
       "      <th>3</th>\n",
       "      <td>MPCHS - Block C1, MPCHS - Multi Gardens</td>\n",
       "      <td>1.75 Crore</td>\n",
       "      <td>5 Marla</td>\n",
       "      <td>3</td>\n",
       "      <td>4</td>\n",
       "      <td>https://www.zameen.com//Property/mpchs_multi_g...</td>\n",
       "    </tr>\n",
       "    <tr>\n",
       "      <th>4</th>\n",
       "      <td>Faisal Margalla City, B-17</td>\n",
       "      <td>2 Crore</td>\n",
       "      <td>7 Marla</td>\n",
       "      <td>6</td>\n",
       "      <td>6</td>\n",
       "      <td>https://www.zameen.com//Property/b_17_faisal_m...</td>\n",
       "    </tr>\n",
       "  </tbody>\n",
       "</table>\n",
       "</div>"
      ],
      "text/plain": [
       "                                  Location       Price      Area Bedrooms  \\\n",
       "0  MPCHS - Block C1, MPCHS - Multi Gardens   2.5 Crore   7 Marla        4   \n",
       "1   MPCHS - Block B, MPCHS - Multi Gardens   3.8 Crore  12 Marla        4   \n",
       "2   MPCHS - Block F, MPCHS - Multi Gardens  1.95 Crore   7 Marla        4   \n",
       "3  MPCHS - Block C1, MPCHS - Multi Gardens  1.75 Crore   5 Marla        3   \n",
       "4               Faisal Margalla City, B-17     2 Crore   7 Marla        6   \n",
       "\n",
       "   Baths                                               Link  \n",
       "0      6  https://www.zameen.com//Property/mpchs_multi_g...  \n",
       "1      4  https://www.zameen.com//Property/mpchs_multi_g...  \n",
       "2      6  https://www.zameen.com//Property/mpchs_multi_g...  \n",
       "3      4  https://www.zameen.com//Property/mpchs_multi_g...  \n",
       "4      6  https://www.zameen.com//Property/b_17_faisal_m...  "
      ]
     },
     "execution_count": 62,
     "metadata": {},
     "output_type": "execute_result"
    }
   ],
   "source": [
    "# reading 1st 5 records\n",
    "df.head()"
   ]
  },
  {
   "cell_type": "code",
   "execution_count": 63,
   "id": "eab5f843-a21e-4876-aa8a-bd54410a273f",
   "metadata": {},
   "outputs": [
    {
     "data": {
      "text/plain": [
       "0      MPCHS - Block C1, MPCHS - Multi Gardens\n",
       "1       MPCHS - Block B, MPCHS - Multi Gardens\n",
       "2       MPCHS - Block F, MPCHS - Multi Gardens\n",
       "3      MPCHS - Block C1, MPCHS - Multi Gardens\n",
       "4                   Faisal Margalla City, B-17\n",
       "                        ...                   \n",
       "170    MPCHS - Block C1, MPCHS - Multi Gardens\n",
       "171                            B-17, Islamabad\n",
       "172     MPCHS - Block C, MPCHS - Multi Gardens\n",
       "173     MPCHS - Block C, MPCHS - Multi Gardens\n",
       "174                            B-17, Islamabad\n",
       "Name: Location, Length: 175, dtype: object"
      ]
     },
     "execution_count": 63,
     "metadata": {},
     "output_type": "execute_result"
    }
   ],
   "source": [
    "# reading series(column)\n",
    "df[\"Location\"]"
   ]
  },
  {
   "cell_type": "code",
   "execution_count": 64,
   "id": "1f521dc2-223d-43e9-80d3-f39eb03ea78c",
   "metadata": {},
   "outputs": [
    {
     "data": {
      "text/plain": [
       "pandas.core.series.Series"
      ]
     },
     "execution_count": 64,
     "metadata": {},
     "output_type": "execute_result"
    }
   ],
   "source": [
    "# type is series\n",
    "type(df['Location'])"
   ]
  },
  {
   "cell_type": "code",
   "execution_count": 65,
   "id": "4277c54c-07fb-4740-92be-f4a7c3db77f3",
   "metadata": {},
   "outputs": [
    {
     "data": {
      "text/plain": [
       "0       2.5 Crore\n",
       "1       3.8 Crore\n",
       "2      1.95 Crore\n",
       "3      1.75 Crore\n",
       "4         2 Crore\n",
       "          ...    \n",
       "170     2.4 Crore\n",
       "171     1.2 Crore\n",
       "172     6.6 Crore\n",
       "173     2.1 Crore\n",
       "174     2.9 Crore\n",
       "Name: Price, Length: 175, dtype: object"
      ]
     },
     "execution_count": 65,
     "metadata": {},
     "output_type": "execute_result"
    }
   ],
   "source": [
    "# reading series(column) using dot notation\n",
    "df.Price"
   ]
  },
  {
   "cell_type": "code",
   "execution_count": 66,
   "id": "933a1554-d347-460b-8ff7-be932191195e",
   "metadata": {},
   "outputs": [
    {
     "data": {
      "text/plain": [
       "pandas.core.series.Series"
      ]
     },
     "execution_count": 66,
     "metadata": {},
     "output_type": "execute_result"
    }
   ],
   "source": [
    "# type is series\n",
    "type(df.Price)"
   ]
  },
  {
   "cell_type": "code",
   "execution_count": 67,
   "id": "751f91a3-ee4e-4d20-bd5d-9d5b4d760f40",
   "metadata": {},
   "outputs": [
    {
     "data": {
      "text/html": [
       "<div>\n",
       "<style scoped>\n",
       "    .dataframe tbody tr th:only-of-type {\n",
       "        vertical-align: middle;\n",
       "    }\n",
       "\n",
       "    .dataframe tbody tr th {\n",
       "        vertical-align: top;\n",
       "    }\n",
       "\n",
       "    .dataframe thead th {\n",
       "        text-align: right;\n",
       "    }\n",
       "</style>\n",
       "<table border=\"1\" class=\"dataframe\">\n",
       "  <thead>\n",
       "    <tr style=\"text-align: right;\">\n",
       "      <th></th>\n",
       "      <th>Location</th>\n",
       "      <th>Price</th>\n",
       "    </tr>\n",
       "  </thead>\n",
       "  <tbody>\n",
       "    <tr>\n",
       "      <th>0</th>\n",
       "      <td>MPCHS - Block C1, MPCHS - Multi Gardens</td>\n",
       "      <td>2.5 Crore</td>\n",
       "    </tr>\n",
       "    <tr>\n",
       "      <th>1</th>\n",
       "      <td>MPCHS - Block B, MPCHS - Multi Gardens</td>\n",
       "      <td>3.8 Crore</td>\n",
       "    </tr>\n",
       "    <tr>\n",
       "      <th>2</th>\n",
       "      <td>MPCHS - Block F, MPCHS - Multi Gardens</td>\n",
       "      <td>1.95 Crore</td>\n",
       "    </tr>\n",
       "    <tr>\n",
       "      <th>3</th>\n",
       "      <td>MPCHS - Block C1, MPCHS - Multi Gardens</td>\n",
       "      <td>1.75 Crore</td>\n",
       "    </tr>\n",
       "    <tr>\n",
       "      <th>4</th>\n",
       "      <td>Faisal Margalla City, B-17</td>\n",
       "      <td>2 Crore</td>\n",
       "    </tr>\n",
       "    <tr>\n",
       "      <th>...</th>\n",
       "      <td>...</td>\n",
       "      <td>...</td>\n",
       "    </tr>\n",
       "    <tr>\n",
       "      <th>170</th>\n",
       "      <td>MPCHS - Block C1, MPCHS - Multi Gardens</td>\n",
       "      <td>2.4 Crore</td>\n",
       "    </tr>\n",
       "    <tr>\n",
       "      <th>171</th>\n",
       "      <td>B-17, Islamabad</td>\n",
       "      <td>1.2 Crore</td>\n",
       "    </tr>\n",
       "    <tr>\n",
       "      <th>172</th>\n",
       "      <td>MPCHS - Block C, MPCHS - Multi Gardens</td>\n",
       "      <td>6.6 Crore</td>\n",
       "    </tr>\n",
       "    <tr>\n",
       "      <th>173</th>\n",
       "      <td>MPCHS - Block C, MPCHS - Multi Gardens</td>\n",
       "      <td>2.1 Crore</td>\n",
       "    </tr>\n",
       "    <tr>\n",
       "      <th>174</th>\n",
       "      <td>B-17, Islamabad</td>\n",
       "      <td>2.9 Crore</td>\n",
       "    </tr>\n",
       "  </tbody>\n",
       "</table>\n",
       "<p>175 rows × 2 columns</p>\n",
       "</div>"
      ],
      "text/plain": [
       "                                    Location       Price\n",
       "0    MPCHS - Block C1, MPCHS - Multi Gardens   2.5 Crore\n",
       "1     MPCHS - Block B, MPCHS - Multi Gardens   3.8 Crore\n",
       "2     MPCHS - Block F, MPCHS - Multi Gardens  1.95 Crore\n",
       "3    MPCHS - Block C1, MPCHS - Multi Gardens  1.75 Crore\n",
       "4                 Faisal Margalla City, B-17     2 Crore\n",
       "..                                       ...         ...\n",
       "170  MPCHS - Block C1, MPCHS - Multi Gardens   2.4 Crore\n",
       "171                          B-17, Islamabad   1.2 Crore\n",
       "172   MPCHS - Block C, MPCHS - Multi Gardens   6.6 Crore\n",
       "173   MPCHS - Block C, MPCHS - Multi Gardens   2.1 Crore\n",
       "174                          B-17, Islamabad   2.9 Crore\n",
       "\n",
       "[175 rows x 2 columns]"
      ]
     },
     "execution_count": 67,
     "metadata": {},
     "output_type": "execute_result"
    }
   ],
   "source": [
    "# reading multiple series(columns)\n",
    "df[[\"Location\",\"Price\"]]"
   ]
  },
  {
   "cell_type": "code",
   "execution_count": 68,
   "id": "dcff62ec-5ddd-4a51-b2d5-f48c8c96d04a",
   "metadata": {},
   "outputs": [],
   "source": [
    "# if column name like Locatio  n\n",
    "# like having spacing b/w name, then dot notation will not work so using this df['Location  n']"
   ]
  },
  {
   "cell_type": "code",
   "execution_count": 69,
   "id": "5ac30d33-4895-43ce-8b85-23c522f52028",
   "metadata": {},
   "outputs": [
    {
     "data": {
      "text/plain": [
       "0        2.5 Crore,7 Marla\n",
       "1       3.8 Crore,12 Marla\n",
       "2       1.95 Crore,7 Marla\n",
       "3       1.75 Crore,5 Marla\n",
       "4          2 Crore,7 Marla\n",
       "              ...         \n",
       "170    2.4 Crore,8.5 Marla\n",
       "171      1.2 Crore,4 Marla\n",
       "172    6.6 Crore,1.2 Kanal\n",
       "173      2.1 Crore,8 Marla\n",
       "174     2.9 Crore,10 Marla\n",
       "Length: 175, dtype: object"
      ]
     },
     "execution_count": 69,
     "metadata": {},
     "output_type": "execute_result"
    }
   ],
   "source": [
    "# concatenataion two columns \n",
    "df.Price+','+df.Area"
   ]
  },
  {
   "cell_type": "code",
   "execution_count": 70,
   "id": "84616f7d-5052-42a4-b3a1-efa37ed3e42b",
   "metadata": {},
   "outputs": [],
   "source": [
    "# creating new columns in data frame, name Extra\n",
    "df['Extra']=df.Price+','+df.Area"
   ]
  },
  {
   "cell_type": "code",
   "execution_count": 71,
   "id": "57c25dca-4453-4992-958c-0c634e4b6cd2",
   "metadata": {},
   "outputs": [
    {
     "data": {
      "text/html": [
       "<div>\n",
       "<style scoped>\n",
       "    .dataframe tbody tr th:only-of-type {\n",
       "        vertical-align: middle;\n",
       "    }\n",
       "\n",
       "    .dataframe tbody tr th {\n",
       "        vertical-align: top;\n",
       "    }\n",
       "\n",
       "    .dataframe thead th {\n",
       "        text-align: right;\n",
       "    }\n",
       "</style>\n",
       "<table border=\"1\" class=\"dataframe\">\n",
       "  <thead>\n",
       "    <tr style=\"text-align: right;\">\n",
       "      <th></th>\n",
       "      <th>Location</th>\n",
       "      <th>Price</th>\n",
       "      <th>Area</th>\n",
       "      <th>Bedrooms</th>\n",
       "      <th>Baths</th>\n",
       "      <th>Link</th>\n",
       "      <th>Extra</th>\n",
       "    </tr>\n",
       "  </thead>\n",
       "  <tbody>\n",
       "    <tr>\n",
       "      <th>0</th>\n",
       "      <td>MPCHS - Block C1, MPCHS - Multi Gardens</td>\n",
       "      <td>2.5 Crore</td>\n",
       "      <td>7 Marla</td>\n",
       "      <td>4</td>\n",
       "      <td>6</td>\n",
       "      <td>https://www.zameen.com//Property/mpchs_multi_g...</td>\n",
       "      <td>2.5 Crore,7 Marla</td>\n",
       "    </tr>\n",
       "    <tr>\n",
       "      <th>1</th>\n",
       "      <td>MPCHS - Block B, MPCHS - Multi Gardens</td>\n",
       "      <td>3.8 Crore</td>\n",
       "      <td>12 Marla</td>\n",
       "      <td>4</td>\n",
       "      <td>4</td>\n",
       "      <td>https://www.zameen.com//Property/mpchs_multi_g...</td>\n",
       "      <td>3.8 Crore,12 Marla</td>\n",
       "    </tr>\n",
       "    <tr>\n",
       "      <th>2</th>\n",
       "      <td>MPCHS - Block F, MPCHS - Multi Gardens</td>\n",
       "      <td>1.95 Crore</td>\n",
       "      <td>7 Marla</td>\n",
       "      <td>4</td>\n",
       "      <td>6</td>\n",
       "      <td>https://www.zameen.com//Property/mpchs_multi_g...</td>\n",
       "      <td>1.95 Crore,7 Marla</td>\n",
       "    </tr>\n",
       "    <tr>\n",
       "      <th>3</th>\n",
       "      <td>MPCHS - Block C1, MPCHS - Multi Gardens</td>\n",
       "      <td>1.75 Crore</td>\n",
       "      <td>5 Marla</td>\n",
       "      <td>3</td>\n",
       "      <td>4</td>\n",
       "      <td>https://www.zameen.com//Property/mpchs_multi_g...</td>\n",
       "      <td>1.75 Crore,5 Marla</td>\n",
       "    </tr>\n",
       "    <tr>\n",
       "      <th>4</th>\n",
       "      <td>Faisal Margalla City, B-17</td>\n",
       "      <td>2 Crore</td>\n",
       "      <td>7 Marla</td>\n",
       "      <td>6</td>\n",
       "      <td>6</td>\n",
       "      <td>https://www.zameen.com//Property/b_17_faisal_m...</td>\n",
       "      <td>2 Crore,7 Marla</td>\n",
       "    </tr>\n",
       "  </tbody>\n",
       "</table>\n",
       "</div>"
      ],
      "text/plain": [
       "                                  Location       Price      Area Bedrooms  \\\n",
       "0  MPCHS - Block C1, MPCHS - Multi Gardens   2.5 Crore   7 Marla        4   \n",
       "1   MPCHS - Block B, MPCHS - Multi Gardens   3.8 Crore  12 Marla        4   \n",
       "2   MPCHS - Block F, MPCHS - Multi Gardens  1.95 Crore   7 Marla        4   \n",
       "3  MPCHS - Block C1, MPCHS - Multi Gardens  1.75 Crore   5 Marla        3   \n",
       "4               Faisal Margalla City, B-17     2 Crore   7 Marla        6   \n",
       "\n",
       "   Baths                                               Link  \\\n",
       "0      6  https://www.zameen.com//Property/mpchs_multi_g...   \n",
       "1      4  https://www.zameen.com//Property/mpchs_multi_g...   \n",
       "2      6  https://www.zameen.com//Property/mpchs_multi_g...   \n",
       "3      4  https://www.zameen.com//Property/mpchs_multi_g...   \n",
       "4      6  https://www.zameen.com//Property/b_17_faisal_m...   \n",
       "\n",
       "                Extra  \n",
       "0   2.5 Crore,7 Marla  \n",
       "1  3.8 Crore,12 Marla  \n",
       "2  1.95 Crore,7 Marla  \n",
       "3  1.75 Crore,5 Marla  \n",
       "4     2 Crore,7 Marla  "
      ]
     },
     "execution_count": 71,
     "metadata": {},
     "output_type": "execute_result"
    }
   ],
   "source": [
    "df.head()"
   ]
  },
  {
   "cell_type": "code",
   "execution_count": null,
   "id": "e0b20306-9d0e-4fc2-ba48-fd4a7283aa64",
   "metadata": {},
   "outputs": [],
   "source": []
  },
  {
   "cell_type": "code",
   "execution_count": null,
   "id": "4a36d8de-bb3f-4175-92b0-48bd1e633099",
   "metadata": {},
   "outputs": [],
   "source": []
  }
 ],
 "metadata": {
  "kernelspec": {
   "display_name": "Python 3 (ipykernel)",
   "language": "python",
   "name": "python3"
  },
  "language_info": {
   "codemirror_mode": {
    "name": "ipython",
    "version": 3
   },
   "file_extension": ".py",
   "mimetype": "text/x-python",
   "name": "python",
   "nbconvert_exporter": "python",
   "pygments_lexer": "ipython3",
   "version": "3.8.13"
  }
 },
 "nbformat": 4,
 "nbformat_minor": 5
}
