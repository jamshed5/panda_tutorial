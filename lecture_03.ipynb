{
 "cells": [
  {
   "cell_type": "code",
   "execution_count": 57,
   "id": "8989ab4a-3d7c-473d-9102-27d34ab7d8e1",
   "metadata": {},
   "outputs": [],
   "source": [
    "import pandas as pd"
   ]
  },
  {
   "cell_type": "code",
   "execution_count": 58,
   "id": "e3c4d3b5-e9b4-47ab-afa0-bf5c53480e3c",
   "metadata": {},
   "outputs": [],
   "source": [
    "df=pd.read_csv(\"C:/Users/Maanz-AI/Desktop/pandas_tutorial/datas/B17.csv\")"
   ]
  },
  {
   "cell_type": "code",
   "execution_count": 59,
   "id": "abc7ce09-8594-40a3-9eea-4ff0c319931b",
   "metadata": {},
   "outputs": [
    {
     "data": {
      "text/html": [
       "<div>\n",
       "<style scoped>\n",
       "    .dataframe tbody tr th:only-of-type {\n",
       "        vertical-align: middle;\n",
       "    }\n",
       "\n",
       "    .dataframe tbody tr th {\n",
       "        vertical-align: top;\n",
       "    }\n",
       "\n",
       "    .dataframe thead th {\n",
       "        text-align: right;\n",
       "    }\n",
       "</style>\n",
       "<table border=\"1\" class=\"dataframe\">\n",
       "  <thead>\n",
       "    <tr style=\"text-align: right;\">\n",
       "      <th></th>\n",
       "      <th>Location</th>\n",
       "      <th>Price</th>\n",
       "      <th>Area</th>\n",
       "      <th>Bedrooms</th>\n",
       "      <th>Baths</th>\n",
       "      <th>Link</th>\n",
       "    </tr>\n",
       "  </thead>\n",
       "  <tbody>\n",
       "    <tr>\n",
       "      <th>0</th>\n",
       "      <td>MPCHS - Block C1, MPCHS - Multi Gardens</td>\n",
       "      <td>2.5 Crore</td>\n",
       "      <td>7 Marla</td>\n",
       "      <td>4</td>\n",
       "      <td>6</td>\n",
       "      <td>https://www.zameen.com//Property/mpchs_multi_g...</td>\n",
       "    </tr>\n",
       "    <tr>\n",
       "      <th>1</th>\n",
       "      <td>MPCHS - Block B, MPCHS - Multi Gardens</td>\n",
       "      <td>3.8 Crore</td>\n",
       "      <td>12 Marla</td>\n",
       "      <td>4</td>\n",
       "      <td>4</td>\n",
       "      <td>https://www.zameen.com//Property/mpchs_multi_g...</td>\n",
       "    </tr>\n",
       "    <tr>\n",
       "      <th>2</th>\n",
       "      <td>MPCHS - Block F, MPCHS - Multi Gardens</td>\n",
       "      <td>1.95 Crore</td>\n",
       "      <td>7 Marla</td>\n",
       "      <td>4</td>\n",
       "      <td>6</td>\n",
       "      <td>https://www.zameen.com//Property/mpchs_multi_g...</td>\n",
       "    </tr>\n",
       "    <tr>\n",
       "      <th>3</th>\n",
       "      <td>MPCHS - Block C1, MPCHS - Multi Gardens</td>\n",
       "      <td>1.75 Crore</td>\n",
       "      <td>5 Marla</td>\n",
       "      <td>3</td>\n",
       "      <td>4</td>\n",
       "      <td>https://www.zameen.com//Property/mpchs_multi_g...</td>\n",
       "    </tr>\n",
       "    <tr>\n",
       "      <th>4</th>\n",
       "      <td>Faisal Margalla City, B-17</td>\n",
       "      <td>2 Crore</td>\n",
       "      <td>7 Marla</td>\n",
       "      <td>6</td>\n",
       "      <td>6</td>\n",
       "      <td>https://www.zameen.com//Property/b_17_faisal_m...</td>\n",
       "    </tr>\n",
       "  </tbody>\n",
       "</table>\n",
       "</div>"
      ],
      "text/plain": [
       "                                  Location       Price      Area Bedrooms  \\\n",
       "0  MPCHS - Block C1, MPCHS - Multi Gardens   2.5 Crore   7 Marla        4   \n",
       "1   MPCHS - Block B, MPCHS - Multi Gardens   3.8 Crore  12 Marla        4   \n",
       "2   MPCHS - Block F, MPCHS - Multi Gardens  1.95 Crore   7 Marla        4   \n",
       "3  MPCHS - Block C1, MPCHS - Multi Gardens  1.75 Crore   5 Marla        3   \n",
       "4               Faisal Margalla City, B-17     2 Crore   7 Marla        6   \n",
       "\n",
       "   Baths                                               Link  \n",
       "0      6  https://www.zameen.com//Property/mpchs_multi_g...  \n",
       "1      4  https://www.zameen.com//Property/mpchs_multi_g...  \n",
       "2      6  https://www.zameen.com//Property/mpchs_multi_g...  \n",
       "3      4  https://www.zameen.com//Property/mpchs_multi_g...  \n",
       "4      6  https://www.zameen.com//Property/b_17_faisal_m...  "
      ]
     },
     "execution_count": 59,
     "metadata": {},
     "output_type": "execute_result"
    }
   ],
   "source": [
    "df.head()"
   ]
  },
  {
   "cell_type": "code",
   "execution_count": 60,
   "id": "418a831c-fe96-4fab-b795-507415c62fb7",
   "metadata": {},
   "outputs": [
    {
     "data": {
      "text/plain": [
       "dtype('int64')"
      ]
     },
     "execution_count": 60,
     "metadata": {},
     "output_type": "execute_result"
    }
   ],
   "source": [
    "# checking the datatype of column Baths\n",
    "df.Baths.dtypes"
   ]
  },
  {
   "cell_type": "code",
   "execution_count": 61,
   "id": "25218f50-98fd-4b64-a9e1-d4c5119e3ee3",
   "metadata": {},
   "outputs": [
    {
     "data": {
      "text/plain": [
       "Location    object\n",
       "Price       object\n",
       "Area        object\n",
       "Bedrooms    object\n",
       "Baths        int64\n",
       "Link        object\n",
       "dtype: object"
      ]
     },
     "execution_count": 61,
     "metadata": {},
     "output_type": "execute_result"
    }
   ],
   "source": [
    "# checking datatype for all columns/series\n",
    "df.dtypes"
   ]
  },
  {
   "cell_type": "code",
   "execution_count": 62,
   "id": "65029536-d1f4-4bc7-b107-131b5c21cfda",
   "metadata": {},
   "outputs": [
    {
     "data": {
      "text/html": [
       "<div>\n",
       "<style scoped>\n",
       "    .dataframe tbody tr th:only-of-type {\n",
       "        vertical-align: middle;\n",
       "    }\n",
       "\n",
       "    .dataframe tbody tr th {\n",
       "        vertical-align: top;\n",
       "    }\n",
       "\n",
       "    .dataframe thead th {\n",
       "        text-align: right;\n",
       "    }\n",
       "</style>\n",
       "<table border=\"1\" class=\"dataframe\">\n",
       "  <thead>\n",
       "    <tr style=\"text-align: right;\">\n",
       "      <th></th>\n",
       "      <th>Baths</th>\n",
       "    </tr>\n",
       "  </thead>\n",
       "  <tbody>\n",
       "    <tr>\n",
       "      <th>count</th>\n",
       "      <td>175.000000</td>\n",
       "    </tr>\n",
       "    <tr>\n",
       "      <th>mean</th>\n",
       "      <td>4.714286</td>\n",
       "    </tr>\n",
       "    <tr>\n",
       "      <th>std</th>\n",
       "      <td>1.347015</td>\n",
       "    </tr>\n",
       "    <tr>\n",
       "      <th>min</th>\n",
       "      <td>3.000000</td>\n",
       "    </tr>\n",
       "    <tr>\n",
       "      <th>25%</th>\n",
       "      <td>4.000000</td>\n",
       "    </tr>\n",
       "    <tr>\n",
       "      <th>50%</th>\n",
       "      <td>5.000000</td>\n",
       "    </tr>\n",
       "    <tr>\n",
       "      <th>75%</th>\n",
       "      <td>6.000000</td>\n",
       "    </tr>\n",
       "    <tr>\n",
       "      <th>max</th>\n",
       "      <td>10.000000</td>\n",
       "    </tr>\n",
       "  </tbody>\n",
       "</table>\n",
       "</div>"
      ],
      "text/plain": [
       "            Baths\n",
       "count  175.000000\n",
       "mean     4.714286\n",
       "std      1.347015\n",
       "min      3.000000\n",
       "25%      4.000000\n",
       "50%      5.000000\n",
       "75%      6.000000\n",
       "max     10.000000"
      ]
     },
     "execution_count": 62,
     "metadata": {},
     "output_type": "execute_result"
    }
   ],
   "source": [
    "# describe data (show descriptive statistics to all numaric columns, right now i just have Baths is numaric)\n",
    "df.describe()"
   ]
  },
  {
   "cell_type": "code",
   "execution_count": 54,
   "id": "2737898f-4a76-4351-b737-0b3f170759fe",
   "metadata": {},
   "outputs": [
    {
     "data": {
      "text/plain": [
       "Location    object\n",
       "Price       object\n",
       "Area        object\n",
       "Bedrooms    object\n",
       "Baths        int64\n",
       "Link        object\n",
       "dtype: object"
      ]
     },
     "execution_count": 54,
     "metadata": {},
     "output_type": "execute_result"
    }
   ],
   "source": [
    "# get data type\n",
    "df.dtypes"
   ]
  },
  {
   "cell_type": "code",
   "execution_count": 56,
   "id": "ec11b365-0a38-4aed-ac89-a96a42c985c1",
   "metadata": {},
   "outputs": [],
   "source": [
    "# if you have multiple numaric columns like A,B,C and you want descibe just for C\n",
    "# then you can get describe like df.describe(include=['C']) "
   ]
  }
 ],
 "metadata": {
  "kernelspec": {
   "display_name": "Python 3 (ipykernel)",
   "language": "python",
   "name": "python3"
  },
  "language_info": {
   "codemirror_mode": {
    "name": "ipython",
    "version": 3
   },
   "file_extension": ".py",
   "mimetype": "text/x-python",
   "name": "python",
   "nbconvert_exporter": "python",
   "pygments_lexer": "ipython3",
   "version": "3.8.13"
  }
 },
 "nbformat": 4,
 "nbformat_minor": 5
}
