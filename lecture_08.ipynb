{
 "cells": [
  {
   "cell_type": "code",
   "execution_count": 17,
   "id": "eff78328-2dc1-4161-8035-5943e8147729",
   "metadata": {},
   "outputs": [],
   "source": [
    "import pandas as pd "
   ]
  },
  {
   "cell_type": "code",
   "execution_count": 18,
   "id": "3c8d9a73-e03c-4538-a909-f6c564b02938",
   "metadata": {},
   "outputs": [],
   "source": [
    "df=pd.read_csv(\"C:/Users/Maanz-AI/Desktop/pandas_tutorial/datas/B17.csv\")"
   ]
  },
  {
   "cell_type": "code",
   "execution_count": 19,
   "id": "e60c53ad-50b1-4649-bc68-9a6aa40de2e7",
   "metadata": {},
   "outputs": [
    {
     "data": {
      "text/html": [
       "<div>\n",
       "<style scoped>\n",
       "    .dataframe tbody tr th:only-of-type {\n",
       "        vertical-align: middle;\n",
       "    }\n",
       "\n",
       "    .dataframe tbody tr th {\n",
       "        vertical-align: top;\n",
       "    }\n",
       "\n",
       "    .dataframe thead th {\n",
       "        text-align: right;\n",
       "    }\n",
       "</style>\n",
       "<table border=\"1\" class=\"dataframe\">\n",
       "  <thead>\n",
       "    <tr style=\"text-align: right;\">\n",
       "      <th></th>\n",
       "      <th>Location</th>\n",
       "      <th>Price</th>\n",
       "      <th>Area</th>\n",
       "      <th>Bedrooms</th>\n",
       "      <th>Baths</th>\n",
       "      <th>Link</th>\n",
       "    </tr>\n",
       "  </thead>\n",
       "  <tbody>\n",
       "    <tr>\n",
       "      <th>0</th>\n",
       "      <td>MPCHS - Block C1, MPCHS - Multi Gardens</td>\n",
       "      <td>2.5 Crore</td>\n",
       "      <td>7 Marla</td>\n",
       "      <td>4</td>\n",
       "      <td>6</td>\n",
       "      <td>https://www.zameen.com//Property/mpchs_multi_g...</td>\n",
       "    </tr>\n",
       "    <tr>\n",
       "      <th>1</th>\n",
       "      <td>MPCHS - Block B, MPCHS - Multi Gardens</td>\n",
       "      <td>3.8 Crore</td>\n",
       "      <td>12 Marla</td>\n",
       "      <td>4</td>\n",
       "      <td>4</td>\n",
       "      <td>https://www.zameen.com//Property/mpchs_multi_g...</td>\n",
       "    </tr>\n",
       "    <tr>\n",
       "      <th>2</th>\n",
       "      <td>MPCHS - Block F, MPCHS - Multi Gardens</td>\n",
       "      <td>1.95 Crore</td>\n",
       "      <td>7 Marla</td>\n",
       "      <td>4</td>\n",
       "      <td>6</td>\n",
       "      <td>https://www.zameen.com//Property/mpchs_multi_g...</td>\n",
       "    </tr>\n",
       "    <tr>\n",
       "      <th>3</th>\n",
       "      <td>MPCHS - Block C1, MPCHS - Multi Gardens</td>\n",
       "      <td>1.75 Crore</td>\n",
       "      <td>5 Marla</td>\n",
       "      <td>3</td>\n",
       "      <td>4</td>\n",
       "      <td>https://www.zameen.com//Property/mpchs_multi_g...</td>\n",
       "    </tr>\n",
       "    <tr>\n",
       "      <th>4</th>\n",
       "      <td>Faisal Margalla City, B-17</td>\n",
       "      <td>2 Crore</td>\n",
       "      <td>7 Marla</td>\n",
       "      <td>6</td>\n",
       "      <td>6</td>\n",
       "      <td>https://www.zameen.com//Property/b_17_faisal_m...</td>\n",
       "    </tr>\n",
       "  </tbody>\n",
       "</table>\n",
       "</div>"
      ],
      "text/plain": [
       "                                  Location       Price      Area Bedrooms  \\\n",
       "0  MPCHS - Block C1, MPCHS - Multi Gardens   2.5 Crore   7 Marla        4   \n",
       "1   MPCHS - Block B, MPCHS - Multi Gardens   3.8 Crore  12 Marla        4   \n",
       "2   MPCHS - Block F, MPCHS - Multi Gardens  1.95 Crore   7 Marla        4   \n",
       "3  MPCHS - Block C1, MPCHS - Multi Gardens  1.75 Crore   5 Marla        3   \n",
       "4               Faisal Margalla City, B-17     2 Crore   7 Marla        6   \n",
       "\n",
       "   Baths                                               Link  \n",
       "0      6  https://www.zameen.com//Property/mpchs_multi_g...  \n",
       "1      4  https://www.zameen.com//Property/mpchs_multi_g...  \n",
       "2      6  https://www.zameen.com//Property/mpchs_multi_g...  \n",
       "3      4  https://www.zameen.com//Property/mpchs_multi_g...  \n",
       "4      6  https://www.zameen.com//Property/b_17_faisal_m...  "
      ]
     },
     "execution_count": 19,
     "metadata": {},
     "output_type": "execute_result"
    }
   ],
   "source": [
    "df.head()"
   ]
  },
  {
   "cell_type": "code",
   "execution_count": null,
   "id": "3ccd038c-dd22-4260-a196-eed6b33783aa",
   "metadata": {},
   "outputs": [],
   "source": []
  },
  {
   "cell_type": "code",
   "execution_count": 36,
   "id": "9804b4d7-cb21-4fad-9076-765357100a41",
   "metadata": {},
   "outputs": [
    {
     "data": {
      "text/html": [
       "<div>\n",
       "<style scoped>\n",
       "    .dataframe tbody tr th:only-of-type {\n",
       "        vertical-align: middle;\n",
       "    }\n",
       "\n",
       "    .dataframe tbody tr th {\n",
       "        vertical-align: top;\n",
       "    }\n",
       "\n",
       "    .dataframe thead th {\n",
       "        text-align: right;\n",
       "    }\n",
       "</style>\n",
       "<table border=\"1\" class=\"dataframe\">\n",
       "  <thead>\n",
       "    <tr style=\"text-align: right;\">\n",
       "      <th></th>\n",
       "      <th>Location</th>\n",
       "      <th>Price</th>\n",
       "      <th>Area</th>\n",
       "      <th>Bedrooms</th>\n",
       "      <th>Baths</th>\n",
       "    </tr>\n",
       "  </thead>\n",
       "  <tbody>\n",
       "    <tr>\n",
       "      <th>0</th>\n",
       "      <td>MPCHS - Block C1, MPCHS - Multi Gardens</td>\n",
       "      <td>2.5 Crore</td>\n",
       "      <td>7 Marla</td>\n",
       "      <td>4</td>\n",
       "      <td>6</td>\n",
       "    </tr>\n",
       "    <tr>\n",
       "      <th>1</th>\n",
       "      <td>MPCHS - Block B, MPCHS - Multi Gardens</td>\n",
       "      <td>3.8 Crore</td>\n",
       "      <td>12 Marla</td>\n",
       "      <td>4</td>\n",
       "      <td>4</td>\n",
       "    </tr>\n",
       "    <tr>\n",
       "      <th>2</th>\n",
       "      <td>MPCHS - Block F, MPCHS - Multi Gardens</td>\n",
       "      <td>1.95 Crore</td>\n",
       "      <td>7 Marla</td>\n",
       "      <td>4</td>\n",
       "      <td>6</td>\n",
       "    </tr>\n",
       "    <tr>\n",
       "      <th>3</th>\n",
       "      <td>MPCHS - Block C1, MPCHS - Multi Gardens</td>\n",
       "      <td>1.75 Crore</td>\n",
       "      <td>5 Marla</td>\n",
       "      <td>3</td>\n",
       "      <td>4</td>\n",
       "    </tr>\n",
       "    <tr>\n",
       "      <th>4</th>\n",
       "      <td>Faisal Margalla City, B-17</td>\n",
       "      <td>2 Crore</td>\n",
       "      <td>7 Marla</td>\n",
       "      <td>6</td>\n",
       "      <td>6</td>\n",
       "    </tr>\n",
       "  </tbody>\n",
       "</table>\n",
       "</div>"
      ],
      "text/plain": [
       "                                  Location       Price      Area Bedrooms  \\\n",
       "0  MPCHS - Block C1, MPCHS - Multi Gardens   2.5 Crore   7 Marla        4   \n",
       "1   MPCHS - Block B, MPCHS - Multi Gardens   3.8 Crore  12 Marla        4   \n",
       "2   MPCHS - Block F, MPCHS - Multi Gardens  1.95 Crore   7 Marla        4   \n",
       "3  MPCHS - Block C1, MPCHS - Multi Gardens  1.75 Crore   5 Marla        3   \n",
       "4               Faisal Margalla City, B-17     2 Crore   7 Marla        6   \n",
       "\n",
       "   Baths  \n",
       "0      6  \n",
       "1      4  \n",
       "2      6  \n",
       "3      4  \n",
       "4      6  "
      ]
     },
     "execution_count": 36,
     "metadata": {},
     "output_type": "execute_result"
    }
   ],
   "source": [
    "# droping column\n",
    "df.drop('Link', axis=1).head()"
   ]
  },
  {
   "cell_type": "code",
   "execution_count": null,
   "id": "cfbf01ea-10e1-4be3-9655-ab941d6728fd",
   "metadata": {},
   "outputs": [],
   "source": []
  },
  {
   "cell_type": "code",
   "execution_count": 35,
   "id": "c484da98-8635-47de-b87e-6a39494e7d95",
   "metadata": {},
   "outputs": [
    {
     "data": {
      "text/html": [
       "<div>\n",
       "<style scoped>\n",
       "    .dataframe tbody tr th:only-of-type {\n",
       "        vertical-align: middle;\n",
       "    }\n",
       "\n",
       "    .dataframe tbody tr th {\n",
       "        vertical-align: top;\n",
       "    }\n",
       "\n",
       "    .dataframe thead th {\n",
       "        text-align: right;\n",
       "    }\n",
       "</style>\n",
       "<table border=\"1\" class=\"dataframe\">\n",
       "  <thead>\n",
       "    <tr style=\"text-align: right;\">\n",
       "      <th></th>\n",
       "      <th>Location</th>\n",
       "      <th>Price</th>\n",
       "      <th>Area</th>\n",
       "      <th>Bedrooms</th>\n",
       "    </tr>\n",
       "  </thead>\n",
       "  <tbody>\n",
       "    <tr>\n",
       "      <th>0</th>\n",
       "      <td>MPCHS - Block C1, MPCHS - Multi Gardens</td>\n",
       "      <td>2.5 Crore</td>\n",
       "      <td>7 Marla</td>\n",
       "      <td>4</td>\n",
       "    </tr>\n",
       "    <tr>\n",
       "      <th>1</th>\n",
       "      <td>MPCHS - Block B, MPCHS - Multi Gardens</td>\n",
       "      <td>3.8 Crore</td>\n",
       "      <td>12 Marla</td>\n",
       "      <td>4</td>\n",
       "    </tr>\n",
       "    <tr>\n",
       "      <th>2</th>\n",
       "      <td>MPCHS - Block F, MPCHS - Multi Gardens</td>\n",
       "      <td>1.95 Crore</td>\n",
       "      <td>7 Marla</td>\n",
       "      <td>4</td>\n",
       "    </tr>\n",
       "    <tr>\n",
       "      <th>3</th>\n",
       "      <td>MPCHS - Block C1, MPCHS - Multi Gardens</td>\n",
       "      <td>1.75 Crore</td>\n",
       "      <td>5 Marla</td>\n",
       "      <td>3</td>\n",
       "    </tr>\n",
       "    <tr>\n",
       "      <th>4</th>\n",
       "      <td>Faisal Margalla City, B-17</td>\n",
       "      <td>2 Crore</td>\n",
       "      <td>7 Marla</td>\n",
       "      <td>6</td>\n",
       "    </tr>\n",
       "  </tbody>\n",
       "</table>\n",
       "</div>"
      ],
      "text/plain": [
       "                                  Location       Price      Area Bedrooms\n",
       "0  MPCHS - Block C1, MPCHS - Multi Gardens   2.5 Crore   7 Marla        4\n",
       "1   MPCHS - Block B, MPCHS - Multi Gardens   3.8 Crore  12 Marla        4\n",
       "2   MPCHS - Block F, MPCHS - Multi Gardens  1.95 Crore   7 Marla        4\n",
       "3  MPCHS - Block C1, MPCHS - Multi Gardens  1.75 Crore   5 Marla        3\n",
       "4               Faisal Margalla City, B-17     2 Crore   7 Marla        6"
      ]
     },
     "execution_count": 35,
     "metadata": {},
     "output_type": "execute_result"
    }
   ],
   "source": [
    "# droping multiple columns\n",
    "df.drop(['Link','Baths'], axis=1).head()"
   ]
  },
  {
   "cell_type": "code",
   "execution_count": null,
   "id": "03f99aa2-80a3-4fb4-847e-0edd8baed874",
   "metadata": {},
   "outputs": [],
   "source": []
  },
  {
   "cell_type": "code",
   "execution_count": 34,
   "id": "1785f756-5c32-43d2-b924-a0e0ba26c98b",
   "metadata": {},
   "outputs": [
    {
     "data": {
      "text/html": [
       "<div>\n",
       "<style scoped>\n",
       "    .dataframe tbody tr th:only-of-type {\n",
       "        vertical-align: middle;\n",
       "    }\n",
       "\n",
       "    .dataframe tbody tr th {\n",
       "        vertical-align: top;\n",
       "    }\n",
       "\n",
       "    .dataframe thead th {\n",
       "        text-align: right;\n",
       "    }\n",
       "</style>\n",
       "<table border=\"1\" class=\"dataframe\">\n",
       "  <thead>\n",
       "    <tr style=\"text-align: right;\">\n",
       "      <th></th>\n",
       "      <th>Location</th>\n",
       "      <th>Price</th>\n",
       "      <th>Area</th>\n",
       "      <th>Bedrooms</th>\n",
       "      <th>Baths</th>\n",
       "      <th>Link</th>\n",
       "    </tr>\n",
       "  </thead>\n",
       "  <tbody>\n",
       "    <tr>\n",
       "      <th>3</th>\n",
       "      <td>MPCHS - Block C1, MPCHS - Multi Gardens</td>\n",
       "      <td>1.75 Crore</td>\n",
       "      <td>5 Marla</td>\n",
       "      <td>3</td>\n",
       "      <td>4</td>\n",
       "      <td>https://www.zameen.com//Property/mpchs_multi_g...</td>\n",
       "    </tr>\n",
       "    <tr>\n",
       "      <th>4</th>\n",
       "      <td>Faisal Margalla City, B-17</td>\n",
       "      <td>2 Crore</td>\n",
       "      <td>7 Marla</td>\n",
       "      <td>6</td>\n",
       "      <td>6</td>\n",
       "      <td>https://www.zameen.com//Property/b_17_faisal_m...</td>\n",
       "    </tr>\n",
       "    <tr>\n",
       "      <th>5</th>\n",
       "      <td>MPCHS - Block F, MPCHS - Multi Gardens</td>\n",
       "      <td>1.59 Crore</td>\n",
       "      <td>5 Marla</td>\n",
       "      <td>4</td>\n",
       "      <td>4</td>\n",
       "      <td>https://www.zameen.com//Property/mpchs_multi_g...</td>\n",
       "    </tr>\n",
       "    <tr>\n",
       "      <th>6</th>\n",
       "      <td>B-17, Islamabad</td>\n",
       "      <td>3 Crore</td>\n",
       "      <td>10 Marla</td>\n",
       "      <td>4</td>\n",
       "      <td>5</td>\n",
       "      <td>https://www.zameen.com//Property/islamabad_b_1...</td>\n",
       "    </tr>\n",
       "    <tr>\n",
       "      <th>7</th>\n",
       "      <td>MPCHS - Block B Extension 1, MPCHS - Multi Gar...</td>\n",
       "      <td>2.55 Crore</td>\n",
       "      <td>7.8 Marla</td>\n",
       "      <td>6</td>\n",
       "      <td>6</td>\n",
       "      <td>https://www.zameen.com//Property/mpchs_multi_g...</td>\n",
       "    </tr>\n",
       "  </tbody>\n",
       "</table>\n",
       "</div>"
      ],
      "text/plain": [
       "                                            Location       Price       Area  \\\n",
       "3            MPCHS - Block C1, MPCHS - Multi Gardens  1.75 Crore    5 Marla   \n",
       "4                         Faisal Margalla City, B-17     2 Crore    7 Marla   \n",
       "5             MPCHS - Block F, MPCHS - Multi Gardens  1.59 Crore    5 Marla   \n",
       "6                                    B-17, Islamabad     3 Crore   10 Marla   \n",
       "7  MPCHS - Block B Extension 1, MPCHS - Multi Gar...  2.55 Crore  7.8 Marla   \n",
       "\n",
       "  Bedrooms  Baths                                               Link  \n",
       "3        3      4  https://www.zameen.com//Property/mpchs_multi_g...  \n",
       "4        6      6  https://www.zameen.com//Property/b_17_faisal_m...  \n",
       "5        4      4  https://www.zameen.com//Property/mpchs_multi_g...  \n",
       "6        4      5  https://www.zameen.com//Property/islamabad_b_1...  \n",
       "7        6      6  https://www.zameen.com//Property/mpchs_multi_g...  "
      ]
     },
     "execution_count": 34,
     "metadata": {},
     "output_type": "execute_result"
    }
   ],
   "source": [
    "# droping 0,1,2 rows\n",
    "df.drop([0,1,2], axis=0).head()"
   ]
  },
  {
   "cell_type": "code",
   "execution_count": null,
   "id": "f3b77f0a-db77-44b0-887f-4f523701eb1d",
   "metadata": {},
   "outputs": [],
   "source": []
  },
  {
   "cell_type": "code",
   "execution_count": 46,
   "id": "c687a134-ef37-4d11-a81f-5a2ed29fe885",
   "metadata": {},
   "outputs": [
    {
     "name": "stderr",
     "output_type": "stream",
     "text": [
      "C:\\Users\\Maanz-AI\\AppData\\Local\\Temp\\ipykernel_23956\\1377734490.py:2: FutureWarning: Dropping of nuisance columns in DataFrame reductions (with 'numeric_only=None') is deprecated; in a future version this will raise TypeError.  Select only valid columns before calling the reduction.\n",
      "  df.mean(axis=1)\n"
     ]
    },
    {
     "data": {
      "text/plain": [
       "0      6.0\n",
       "1      4.0\n",
       "2      6.0\n",
       "3      4.0\n",
       "4      6.0\n",
       "      ... \n",
       "170    7.0\n",
       "171    3.0\n",
       "172    8.0\n",
       "173    4.0\n",
       "174    8.0\n",
       "Length: 175, dtype: float64"
      ]
     },
     "execution_count": 46,
     "metadata": {},
     "output_type": "execute_result"
    }
   ],
   "source": [
    "# this actually getting mean of each row\n",
    "df.mean(axis=1)"
   ]
  },
  {
   "cell_type": "code",
   "execution_count": null,
   "id": "675aa4ca-088b-4954-9111-001ca4b1aad4",
   "metadata": {},
   "outputs": [],
   "source": []
  },
  {
   "cell_type": "code",
   "execution_count": 55,
   "id": "128b7389-4e9e-4d45-8ee6-1ef3736fdfb6",
   "metadata": {},
   "outputs": [
    {
     "name": "stderr",
     "output_type": "stream",
     "text": [
      "C:\\Users\\Maanz-AI\\AppData\\Local\\Temp\\ipykernel_23956\\3735928689.py:2: FutureWarning: Dropping of nuisance columns in DataFrame reductions (with 'numeric_only=None') is deprecated; in a future version this will raise TypeError.  Select only valid columns before calling the reduction.\n",
      "  df.mean(axis='columns')\n"
     ]
    },
    {
     "data": {
      "text/plain": [
       "0      6.0\n",
       "1      4.0\n",
       "2      6.0\n",
       "3      4.0\n",
       "4      6.0\n",
       "      ... \n",
       "170    7.0\n",
       "171    3.0\n",
       "172    8.0\n",
       "173    4.0\n",
       "174    8.0\n",
       "Length: 175, dtype: float64"
      ]
     },
     "execution_count": 55,
     "metadata": {},
     "output_type": "execute_result"
    }
   ],
   "source": [
    "# same like about \n",
    "df.mean(axis='columns')"
   ]
  },
  {
   "cell_type": "code",
   "execution_count": null,
   "id": "1d0ce6d2-9374-4d52-be93-898efe42fe91",
   "metadata": {},
   "outputs": [],
   "source": []
  },
  {
   "cell_type": "code",
   "execution_count": 51,
   "id": "d334d6bd-26ab-4c09-9f65-84b989506483",
   "metadata": {},
   "outputs": [
    {
     "name": "stderr",
     "output_type": "stream",
     "text": [
      "C:\\Users\\Maanz-AI\\AppData\\Local\\Temp\\ipykernel_23956\\4089922379.py:2: FutureWarning: Dropping of nuisance columns in DataFrame reductions (with 'numeric_only=None') is deprecated; in a future version this will raise TypeError.  Select only valid columns before calling the reduction.\n",
      "  df.mean(axis=1).shape\n"
     ]
    },
    {
     "data": {
      "text/plain": [
       "(175,)"
      ]
     },
     "execution_count": 51,
     "metadata": {},
     "output_type": "execute_result"
    }
   ],
   "source": [
    "# checking shape\n",
    "df.mean(axis=1).shape"
   ]
  },
  {
   "cell_type": "code",
   "execution_count": null,
   "id": "52dc8710-d67d-4a5d-a694-585d10d045fe",
   "metadata": {},
   "outputs": [],
   "source": []
  },
  {
   "cell_type": "code",
   "execution_count": 52,
   "id": "fa52fc57-034e-433b-95c5-4782ceccfcdd",
   "metadata": {},
   "outputs": [
    {
     "name": "stderr",
     "output_type": "stream",
     "text": [
      "C:\\Users\\Maanz-AI\\AppData\\Local\\Temp\\ipykernel_23956\\2367276256.py:2: FutureWarning: Dropping of nuisance columns in DataFrame reductions (with 'numeric_only=None') is deprecated; in a future version this will raise TypeError.  Select only valid columns before calling the reduction.\n",
      "  df.mean(axis=0)\n"
     ]
    },
    {
     "data": {
      "text/plain": [
       "Baths    4.714286\n",
       "dtype: float64"
      ]
     },
     "execution_count": 52,
     "metadata": {},
     "output_type": "execute_result"
    }
   ],
   "source": [
    "# this actually getting mean of each colum and numaric data type is just Baths\n",
    "df.mean(axis=0)"
   ]
  },
  {
   "cell_type": "code",
   "execution_count": null,
   "id": "5416691b-ea89-4f55-ab58-58ec8495e4b3",
   "metadata": {},
   "outputs": [],
   "source": []
  },
  {
   "cell_type": "code",
   "execution_count": 57,
   "id": "f2a6a707-6d94-4cf6-9c99-d9340be33108",
   "metadata": {},
   "outputs": [
    {
     "name": "stderr",
     "output_type": "stream",
     "text": [
      "C:\\Users\\Maanz-AI\\AppData\\Local\\Temp\\ipykernel_23956\\2893120407.py:2: FutureWarning: Dropping of nuisance columns in DataFrame reductions (with 'numeric_only=None') is deprecated; in a future version this will raise TypeError.  Select only valid columns before calling the reduction.\n",
      "  df.mean(axis='rows')\n"
     ]
    },
    {
     "data": {
      "text/plain": [
       "Baths    4.714286\n",
       "dtype: float64"
      ]
     },
     "execution_count": 57,
     "metadata": {},
     "output_type": "execute_result"
    }
   ],
   "source": [
    "# same like about \n",
    "df.mean(axis='rows')"
   ]
  },
  {
   "cell_type": "code",
   "execution_count": null,
   "id": "0e95642c-b490-481a-b080-32f234a53a26",
   "metadata": {},
   "outputs": [],
   "source": []
  },
  {
   "cell_type": "code",
   "execution_count": 53,
   "id": "031bb93b-4238-4d02-ade0-7377bbbfc8ca",
   "metadata": {},
   "outputs": [
    {
     "name": "stderr",
     "output_type": "stream",
     "text": [
      "C:\\Users\\Maanz-AI\\AppData\\Local\\Temp\\ipykernel_23956\\3464406509.py:2: FutureWarning: Dropping of nuisance columns in DataFrame reductions (with 'numeric_only=None') is deprecated; in a future version this will raise TypeError.  Select only valid columns before calling the reduction.\n",
      "  df.mean(axis=0).shape\n"
     ]
    },
    {
     "data": {
      "text/plain": [
       "(1,)"
      ]
     },
     "execution_count": 53,
     "metadata": {},
     "output_type": "execute_result"
    }
   ],
   "source": [
    "# checking shape\n",
    "df.mean(axis=0).shape"
   ]
  },
  {
   "cell_type": "code",
   "execution_count": null,
   "id": "eb6d4da3-2c43-461f-b353-7c9c39aa3be1",
   "metadata": {},
   "outputs": [],
   "source": []
  }
 ],
 "metadata": {
  "kernelspec": {
   "display_name": "Python 3 (ipykernel)",
   "language": "python",
   "name": "python3"
  },
  "language_info": {
   "codemirror_mode": {
    "name": "ipython",
    "version": 3
   },
   "file_extension": ".py",
   "mimetype": "text/x-python",
   "name": "python",
   "nbconvert_exporter": "python",
   "pygments_lexer": "ipython3",
   "version": "3.8.13"
  }
 },
 "nbformat": 4,
 "nbformat_minor": 5
}
